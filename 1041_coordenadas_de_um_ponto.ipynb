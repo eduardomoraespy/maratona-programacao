{
  "nbformat": 4,
  "nbformat_minor": 0,
  "metadata": {
    "colab": {
      "name": " 1041-coordenadas-de-um-ponto.ipynb",
      "provenance": [],
      "authorship_tag": "ABX9TyPNfqD/d0OTH+5C57Rj8UsQ",
      "include_colab_link": true
    },
    "kernelspec": {
      "name": "python3",
      "display_name": "Python 3"
    },
    "language_info": {
      "name": "python"
    }
  },
  "cells": [
    {
      "cell_type": "markdown",
      "metadata": {
        "id": "view-in-github",
        "colab_type": "text"
      },
      "source": [
        "<a href=\"https://colab.research.google.com/github/eduardomoraespy/maratona-programacao/blob/main/1041_coordenadas_de_um_ponto.ipynb\" target=\"_parent\"><img src=\"https://colab.research.google.com/assets/colab-badge.svg\" alt=\"Open In Colab\"/></a>"
      ]
    },
    {
      "cell_type": "code",
      "metadata": {
        "colab": {
          "base_uri": "https://localhost:8080/"
        },
        "id": "74W7zKXUSzeH",
        "outputId": "784abebd-5b0b-4408-85cf-b9d14d691a83"
      },
      "source": [
        "n = input().split(' ')\n",
        "\n",
        "x, y = n\n",
        "x = float(x)\n",
        "y = float(y)\n",
        "\n",
        "# eixo x posivo {+1 ate infinito}\n",
        "# eixo x negativo {-1 ate infinito}\n",
        "\n",
        "# eixo y positivo {+1 ate infinito}\n",
        "# eixo y negativo {-1 ate infinito}\n",
        "\n",
        "# 1º Quadrante x positivo e y positivo\n",
        "if x > 0 < y:\n",
        "  print('Q1')\n",
        "\n",
        "# 4º Quadrante x postivo e y negativo \n",
        "if x > 0 > y:\n",
        "  print('Q4')\n",
        "\n",
        "# 3º Quadrante x negativo e y negativo\n",
        "if x < 0 > y:\n",
        "  print('Q3')\n",
        "\n",
        "# 2º Quadrante x negativo e y positivo\n",
        "if x < 0 < y: \n",
        "  print('Q2')\n",
        "\n",
        "if x == 0:\n",
        "    if y == 0:\n",
        "        print('Origem')\n",
        "    if y != 0:\n",
        "        print('Eixo Y')\n",
        "if y == 0:\n",
        "    if x != 0:\n",
        "        print('Eixo X')"
      ],
      "execution_count": 1,
      "outputs": [
        {
          "output_type": "stream",
          "text": [
            "3 -7\n",
            "Q4\n"
          ],
          "name": "stdout"
        }
      ]
    }
  ]
}