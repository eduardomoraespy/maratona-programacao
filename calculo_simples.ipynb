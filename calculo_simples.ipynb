{
  "nbformat": 4,
  "nbformat_minor": 0,
  "metadata": {
    "colab": {
      "name": "calculo_simples.ipynb",
      "provenance": [],
      "authorship_tag": "ABX9TyMX8CczVUaLPlCy93+8pftm"
    },
    "kernelspec": {
      "name": "python3",
      "display_name": "Python 3"
    },
    "language_info": {
      "name": "python"
    }
  },
  "cells": [
    {
      "cell_type": "markdown",
      "metadata": {
        "id": "hLM8DxVYXH0V"
      },
      "source": [
        "<p>\n",
        "Neste problema, deve-se ler o código de uma peça 1, o número de peças 1, o valor unitário de cada peça 1, o código de uma peça 2, o número de peças 2 e o valor unitário de cada peça 2. Após, calcule e mostre o valor a ser pago.</br></br>\n",
        "\n",
        "</p>\n",
        "\n",
        "\n",
        "---\n",
        "\n"
      ]
    },
    {
      "cell_type": "markdown",
      "metadata": {
        "id": "6o9rM3zJZIYB"
      },
      "source": [
        "<p>\n",
        "<b>Entrada</b></br>\n",
        "O arquivo de entrada contém duas linhas de dados. Em cada linha haverá 3 valores, respectivamente dois inteiros e um valor com 2 casas decimais.\n",
        "</br></br>\n",
        "</p>\n",
        "\n",
        "\n",
        "---\n",
        "\n"
      ]
    },
    {
      "cell_type": "markdown",
      "metadata": {
        "id": "8De9h9WIZLwg"
      },
      "source": [
        "<p>\n",
        "<b>Saída</b></br>\n",
        "A saída deverá ser uma mensagem conforme o exemplo fornecido abaixo, lembrando de deixar um espaço após os dois pontos e um espaço após o \"R$\". O valor deverá ser apresentado com 2 casas após o ponto.\n",
        "</p>\n",
        "\n",
        "\n",
        "---\n",
        "\n"
      ]
    },
    {
      "cell_type": "code",
      "metadata": {
        "colab": {
          "base_uri": "https://localhost:8080/"
        },
        "id": "Augm8rqzWqDB",
        "outputId": "37677736-1a7d-4f9e-c855-f5bdd591b91a"
      },
      "source": [
        "# Lendo variável em uma linha\n",
        "codigo1, numero_de_peca1, valor_unitario1 = input().split(' ')\n",
        "\n",
        "# Definindo tipos em relação as entradas\n",
        "codigo1 = int(codigo1)\n",
        "numero_de_peca1 = int(numero_de_peca1)\n",
        "valor_unitario1 = float(valor_unitario1)\n",
        "\n",
        "# Lendo variável em uma linha\n",
        "codigo2, numero_de_peca2, valor_unitario2 = input().split(' ')\n",
        "\n",
        "# Definindo tipos em relação as entradas\n",
        "codigo2 = int(codigo2)\n",
        "numero_de_peca2 = int(numero_de_peca2)\n",
        "valor_unitario2 = float(valor_unitario2)\n",
        "\n",
        "# Calculo\n",
        "tot = valor_unitario1 * numero_de_peca1 + valor_unitario2 * numero_de_peca2\n",
        "\n",
        "# Saída\n",
        "print(f'VALOR A PAGAR: R$ {tot:.2f}')\n",
        "\n",
        "##12 1 5.30\n",
        "##16 2 5.10"
      ],
      "execution_count": 1,
      "outputs": [
        {
          "output_type": "stream",
          "text": [
            "12 1 5.30\n",
            "16 2 5.10\n",
            "VALOR A PAGAR: R$ 15.50\n"
          ],
          "name": "stdout"
        }
      ]
    }
  ]
}