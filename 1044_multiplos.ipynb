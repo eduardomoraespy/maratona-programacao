{
  "nbformat": 4,
  "nbformat_minor": 0,
  "metadata": {
    "colab": {
      "name": "1044-multiplos.ipynb",
      "provenance": [],
      "authorship_tag": "ABX9TyNu3j3Tyfx6F17nMnSY4iXk",
      "include_colab_link": true
    },
    "kernelspec": {
      "name": "python3",
      "display_name": "Python 3"
    },
    "language_info": {
      "name": "python"
    }
  },
  "cells": [
    {
      "cell_type": "markdown",
      "metadata": {
        "id": "view-in-github",
        "colab_type": "text"
      },
      "source": [
        "<a href=\"https://colab.research.google.com/github/eduardomoraespy/maratona-programacao/blob/main/1044_multiplos.ipynb\" target=\"_parent\"><img src=\"https://colab.research.google.com/assets/colab-badge.svg\" alt=\"Open In Colab\"/></a>"
      ]
    },
    {
      "cell_type": "markdown",
      "metadata": {
        "id": "yjhSfRZMVz0p"
      },
      "source": [
        "<p> Para um saber se A é mútilpo B será usado o operador de resto da divisão para verficar se o resultado é 0 para múltiplos e 1 para não múltiplos.\n",
        "</br></br>\n",
        "Matemáticamente para saber se A é múltiplo de B é preciso fazer a divisão entre eles e se a divisão for exata, ou seja, com resto 0 os números são mutiplos.\n",
        "</p>\n"
      ]
    },
    {
      "cell_type": "code",
      "metadata": {
        "colab": {
          "base_uri": "https://localhost:8080/"
        },
        "id": "etRZZxfsVK3X",
        "outputId": "de492174-d94e-432b-966c-36dddbe36c58"
      },
      "source": [
        "n = input().split(' ')\n",
        "\n",
        "A, B = n\n",
        "\n",
        "A = int(A)\n",
        "B = int(B)\n",
        "\n",
        "if A > B:\n",
        "  if A % B == 0:\n",
        "    print('Sao Multiplos')\n",
        "  else:\n",
        "    print('Nao sao Multiplos')\n",
        "\n",
        "if B > A:\n",
        "  if B % A == 0:\n",
        "    print('Sao Multiplos')\n",
        "  else:\n",
        "    print('Nao sao Multiplos')\n",
        "\n",
        "if A == B:\n",
        "  print('Sao Multiplos')"
      ],
      "execution_count": 4,
      "outputs": [
        {
          "output_type": "stream",
          "text": [
            "3 54\n",
            "Sao Multiplos\n"
          ],
          "name": "stdout"
        }
      ]
    },
    {
      "cell_type": "code",
      "metadata": {
        "colab": {
          "base_uri": "https://localhost:8080/",
          "height": 52
        },
        "id": "y9Dy8_xTbJBJ",
        "outputId": "dee78972-9fa1-489a-9543-a5527344763e"
      },
      "source": [
        "# Criando função para multiplos. Caso essa operação for reutilizada novamente não é preciso reescrever a operação basta chamar a função.\n",
        "\n",
        "def Mutiplos(valor1, valor2):\n",
        "  if valor1 > valor2:\n",
        "    if valor1 % valor2 == 0:\n",
        "      return 'Sao Multiplos'\n",
        "    else:\n",
        "      return 'Nao sao Multiplos'\n",
        "\n",
        "  if valor2 > valor1:\n",
        "    if valor2 % valor1 == 0:\n",
        "      return 'Sao Multiplos'\n",
        "    else:\n",
        "      return 'Nao sao Multiplos'\n",
        "\n",
        "  if valor1 == valor2:\n",
        "    return 'Sao Multiplos'\n",
        "\n",
        "\n",
        "n = input().split(' ')\n",
        "\n",
        "A, B = n\n",
        "\n",
        "A = int(A)\n",
        "B = int(B)\n",
        "\n",
        "Mutiplos(A, B)"
      ],
      "execution_count": 6,
      "outputs": [
        {
          "output_type": "stream",
          "text": [
            "7 35\n"
          ],
          "name": "stdout"
        },
        {
          "output_type": "execute_result",
          "data": {
            "application/vnd.google.colaboratory.intrinsic+json": {
              "type": "string"
            },
            "text/plain": [
              "'Sao Multiplos'"
            ]
          },
          "metadata": {
            "tags": []
          },
          "execution_count": 6
        }
      ]
    }
  ]
}