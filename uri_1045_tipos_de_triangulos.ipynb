{
  "nbformat": 4,
  "nbformat_minor": 0,
  "metadata": {
    "colab": {
      "name": "uri_1045_tipos_de_triangulos.ipynb",
      "provenance": [],
      "authorship_tag": "ABX9TyNmgvFU8hjcP0Hemvy7MoXI"
    },
    "kernelspec": {
      "name": "python3",
      "display_name": "Python 3"
    },
    "language_info": {
      "name": "python"
    }
  },
  "cells": [
    {
      "cell_type": "markdown",
      "metadata": {
        "id": "55yS6GkEb1XB"
      },
      "source": [
        "<h1>\n",
        "<b>Tipos de Triângulos</b>\n",
        "</h1>"
      ]
    },
    {
      "cell_type": "markdown",
      "metadata": {
        "id": "9e8rHhtqcGGb"
      },
      "source": [
        "<p>\n",
        "Leia <b>3 valores</b> de ponto flutuante A, B e C e ordene-os em <b>ordem decrescente</b>, de modo que o lado <b>A representa o maior dos 3 lados</b>. A seguir, determine o tipo de triângulo que estes três lados formam, com base nos seguintes casos, sempre escrevendo uma mensagem adequada:\n",
        "</p>"
      ]
    },
    {
      "cell_type": "markdown",
      "metadata": {
        "id": "nb-YBuzicnrQ"
      },
      "source": [
        "<ul type=\"square\">\n",
        "  <li>se <b>A ≥ B+C</b>, apresente a mensagem: <b>NAO FORMA TRIANGULO</b>\n",
        "  </li> \n",
        "</ul>"
      ]
    },
    {
      "cell_type": "markdown",
      "metadata": {
        "id": "BHs9la13c58E"
      },
      "source": [
        "<ul type=\"square\">\n",
        "  <li><b>se A² = B² + C²</b>, apresente a mensagem: <b>TRIANGULO RETANGULO</b>\n",
        "  </li> \n",
        "</ul>"
      ]
    },
    {
      "cell_type": "markdown",
      "metadata": {
        "id": "-Zc5jzObc7Eb"
      },
      "source": [
        "<ul type=\"square\">\n",
        "  <li><b>se A² > B² + C²</b>, apresente a mensagem: <b>TRIANGULO OBTUSANGULO</b> </li> \n",
        "</ul>"
      ]
    },
    {
      "cell_type": "markdown",
      "metadata": {
        "id": "8-at_Wf1c8SK"
      },
      "source": [
        "<ul type=\"square\">\n",
        "  <li><b>se A² < B² + C²</b>, apresente a mensagem: <b>TRIANGULO ACUTANGULO</b>\n",
        "</li> \n",
        "</ul>"
      ]
    },
    {
      "cell_type": "markdown",
      "metadata": {
        "id": "PAQ-cDBHc9rF"
      },
      "source": [
        "<ul type=\"square\">\n",
        "  <li><b>se os três lados forem iguais</b>, apresente a mensagem: <b>TRIANGULO EQUILATERO</b> </li> \n",
        "</ul>"
      ]
    },
    {
      "cell_type": "markdown",
      "metadata": {
        "id": "NU2f0xNJc--O"
      },
      "source": [
        "<ul type=\"square\">\n",
        "  <li><b>se apenas dois dos lados forem iguais</b>, apresente a mensagem: <b>TRIANGULO ISOSCELES</b></li> \n",
        "</ul>"
      ]
    },
    {
      "cell_type": "markdown",
      "metadata": {
        "id": "yRlnoCQcdAAN"
      },
      "source": [
        "<h2>\n",
        "<b>Entrada </b>\n",
        "</h2>"
      ]
    },
    {
      "cell_type": "markdown",
      "metadata": {
        "id": "WraCiz3xfshR"
      },
      "source": [
        "<p>\n",
        "A entrada contem três valores de ponto flutuante de dupla precisão <b>A (0 < A) , B (0 < B) e C (0 < C)</b>.\n",
        "</p>"
      ]
    },
    {
      "cell_type": "markdown",
      "metadata": {
        "id": "9U7SnCgFdB1g"
      },
      "source": [
        "<h2>\n",
        "<b>Saída </b>\n",
        "</h2>"
      ]
    },
    {
      "cell_type": "markdown",
      "metadata": {
        "id": "OSWJD4RZgTIn"
      },
      "source": [
        "<p>\n",
        "Imprima todas as classificações do triângulo especificado na entrada.\n",
        "</p>"
      ]
    },
    {
      "cell_type": "code",
      "metadata": {
        "id": "YSr6kNZ4bqvV"
      },
      "source": [
        "# Exemplos de entradas              # Exemplos de saída\n",
        "# 7.0 5.0 7.0                       # TRIANGULO ACUTANGULO\n",
        "                                    # TRIANGULO ISOSCELES "
      ],
      "execution_count": 69,
      "outputs": []
    },
    {
      "cell_type": "code",
      "metadata": {
        "colab": {
          "base_uri": "https://localhost:8080/"
        },
        "id": "tZeAEhsqhOV8",
        "outputId": "536cf1e0-6a1d-4bbc-db8b-4a9e56e986ce"
      },
      "source": [
        "valores = input().split()\n",
        "valores = list(map(float,valores))\n",
        "\n",
        "A,B,C = sorted(valores)[::-1]\n",
        "\n",
        "continua = True\n",
        "\n",
        "if(A >= B+C):\n",
        "    print(\"NAO FORMA TRIANGULO\")\n",
        "    continua = False\n",
        "\n",
        "if(A**2 == (B**2) + (C**2) and continua):\n",
        "    print(\"TRIANGULO RETANGULO\")\n",
        "\n",
        "if(A**2 > (B**2) + (C**2) and continua):\n",
        "    print(\"TRIANGULO OBTUSANGULO\")\n",
        "\n",
        "if(A**2 < (B**2) + (C**2) and continua):\n",
        "    print(\"TRIANGULO ACUTANGULO\")\n",
        "\n",
        "if(A == B and B == C and continua):\n",
        "    print(\"TRIANGULO EQUILATERO\")\n",
        "\n",
        "if((A == B or B == C) and not (A == B and B == C) and continua):\n",
        "    print(\"TRIANGULO ISOSCELES\")"
      ],
      "execution_count": 74,
      "outputs": [
        {
          "output_type": "stream",
          "text": [
            "7.0 5.0 7.0\n",
            "TRIANGULO ACUTANGULO\n",
            "TRIANGULO ISOSCELES\n"
          ],
          "name": "stdout"
        }
      ]
    }
  ]
}