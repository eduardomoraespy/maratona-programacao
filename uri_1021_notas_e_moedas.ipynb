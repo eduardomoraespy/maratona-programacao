{
  "nbformat": 4,
  "nbformat_minor": 0,
  "metadata": {
    "colab": {
      "name": "uri_1021_notas_e_moedas.ipynb",
      "provenance": []
    },
    "kernelspec": {
      "name": "python3",
      "display_name": "Python 3"
    },
    "language_info": {
      "name": "python"
    }
  },
  "cells": [
    {
      "cell_type": "markdown",
      "metadata": {
        "id": "CsXhe_2AACZU"
      },
      "source": [
        "<p>\n",
        "Leia um valor de ponto flutuante com duas casas decimais. Este valor representa um valor monetário. A seguir, calcule o menor número de notas e moedas possíveis no qual o valor pode ser decomposto. As notas consideradas são de <b>100, 50, 20, 10, 5, 2</b>. As moedas possíveis são de <b>1, 0.50, 0.25, 0.10, 0.05 e 0.01</b>. A seguir mostre a relação de notas necessárias.\n",
        "</p>"
      ]
    },
    {
      "cell_type": "markdown",
      "metadata": {
        "id": "LUe11UswGwQ3"
      },
      "source": [
        "<h3>\n",
        "<b>\n",
        "Entrada\n",
        "</b>\n",
        "</h3>"
      ]
    },
    {
      "cell_type": "markdown",
      "metadata": {
        "id": "TZNVQxaLG7i6"
      },
      "source": [
        "<p>\n",
        "O arquivo de entrada contém um valor de ponto flutuante <b>N (0 ≤ N ≤ 1000000.00)</b>.\n",
        "</p>"
      ]
    },
    {
      "cell_type": "markdown",
      "metadata": {
        "id": "xswQ-f5xHE5Z"
      },
      "source": [
        "<h3>\n",
        "<b>Saída</b>\n",
        "</h3>"
      ]
    },
    {
      "cell_type": "markdown",
      "metadata": {
        "id": "yIVR3zjrHWmu"
      },
      "source": [
        "<p>\n",
        "Imprima a quantidade mínima de notas e moedas necessárias para trocar o valor inicial, conforme exemplo fornecido.\n",
        "\n",
        "Obs: Utilize <b>ponto (.)</b> para separar a parte decimal.\n",
        "</p>"
      ]
    },
    {
      "cell_type": "code",
      "metadata": {
        "id": "E7mALFFOHi2b"
      },
      "source": [
        "# Exemplo de entrada          # Exemplo de saída\n",
        "# 576.73                      # NOTAS:\n",
        "                              # 5 nota(s) de R$ 100.00\n",
        "                              # 1 nota(s) de R$ 50.00\n",
        "                              # 1 nota(s) de R$ 20.00\n",
        "                              # 0 nota(s) de R$ 10.00\n",
        "                              # 1 nota(s) de R$ 5.00\n",
        "                              # 0 nota(s) de R$ 2.00\n",
        "                              # MOEDAS:\n",
        "                              # 1 moeda(s) de R$ 1.00\n",
        "                              # 1 moeda(s) de R$ 0.50\n",
        "                              # 0 moeda(s) de R$ 0.25\n",
        "                              # 2 moeda(s) de R$ 0.10\n",
        "                              # 0 moeda(s) de R$ 0.05\n",
        "                              # 3 moeda(s) de R$ 0.01"
      ],
      "execution_count": null,
      "outputs": []
    },
    {
      "cell_type": "code",
      "metadata": {
        "id": "OwpusMCU_2wO",
        "colab": {
          "base_uri": "https://localhost:8080/"
        },
        "outputId": "9fc90830-588b-47e7-fcf3-74c2dd6c0ef8"
      },
      "source": [
        "n = float(input())\n",
        "\n",
        "n100 = n // 100\n",
        "n = n - n100*100\n",
        "\n",
        "n50 = n // 50\n",
        "n = n - n50*50\n",
        "\n",
        "n20 = n // 20\n",
        "n = n - n20*20\n",
        "\n",
        "n10 = n // 10\n",
        "n = n - n10*10\n",
        "\n",
        "n5 = n // 5\n",
        "n = n - n5*5\n",
        "\n",
        "n2 = n // 2\n",
        "n = n - n2*2\n",
        "\n",
        "n1 = n // 1\n",
        "n = n - n1*1\n",
        "n1=float('%.2f'% n1)\n",
        "n=float('%.2f'% n)\n",
        "\n",
        "m50 = n // 0.5\n",
        "n = n - m50*0.5\n",
        "m50=float('%.2f'% m50)\n",
        "n=float('%.2f'% n)\n",
        "\n",
        "m25 = n // 0.25\n",
        "n = n - m25*0.25\n",
        "m25=float('%.2f'% m25)\n",
        "n=float('%.2f'% n)\n",
        "\n",
        "m10 = n // 0.10\n",
        "n = n - m10*0.10\n",
        "m10=float('%.2f'% m10)\n",
        "n=float('%.2f'% n)\n",
        "\n",
        "m5 = n // 0.05\n",
        "n = n - m5*0.05\n",
        "m5=float('%.2f'% m5)\n",
        "n=float('%.2f'% n)\n",
        "\n",
        "m1 = n * 100\n",
        "m1=float('%.2f'% m1)\n",
        "n=float('%.2f'% n)\n"
      ],
      "execution_count": 5,
      "outputs": [
        {
          "output_type": "stream",
          "text": [
            "223\n"
          ],
          "name": "stdout"
        }
      ]
    },
    {
      "cell_type": "code",
      "metadata": {
        "colab": {
          "base_uri": "https://localhost:8080/"
        },
        "id": "KMYItFOmCNFN",
        "outputId": "4c894fab-369f-40ac-fa05-36d134aaaf02"
      },
      "source": [
        "print('NOTAS:')\n",
        "print(f'{int(n100)} nota(s) de R$ 100.00')\n",
        "print(f'{int(n50)} nota(s) de R$ 50.00')\n",
        "print(f'{int(n20)} nota(s) de R$ 20.00')\n",
        "print(f'{int(n10)} nota(s) de R$ 10.00')\n",
        "print(f'{int(n5)} nota(s) de R$ 5.00')\n",
        "print(f'{int(n2)} nota(s) de R$ 2.00')\n",
        "print('MOEDAS:')\n",
        "print(f'{int(n1)} moeda(s) de R$ 1.00')\n",
        "print(f'{int(m50)} moeda(s) de R$ 0.50')\n",
        "print(f'{int(m25)} moeda(s) de R$ 0.25')\n",
        "print(f'{int(m10)} moeda(s) de R$ 0.10')\n",
        "print(f'{int(m5)} moeda(s) de R$ 0.05')\n",
        "print(f'{int(m1)} moeda(s) de R$ 0.01')"
      ],
      "execution_count": 6,
      "outputs": [
        {
          "output_type": "stream",
          "text": [
            "NOTAS:\n",
            "2 nota(s) de R$ 100.00\n",
            "0 nota(s) de R$ 50.00\n",
            "1 nota(s) de R$ 20.00\n",
            "0 nota(s) de R$ 10.00\n",
            "0 nota(s) de R$ 5.00\n",
            "1 nota(s) de R$ 2.00\n",
            "MOEDAS:\n",
            "1 moeda(s) de R$ 1.00\n",
            "0 moeda(s) de R$ 0.50\n",
            "0 moeda(s) de R$ 0.25\n",
            "0 moeda(s) de R$ 0.10\n",
            "0 moeda(s) de R$ 0.05\n",
            "0 moeda(s) de R$ 0.01\n"
          ],
          "name": "stdout"
        }
      ]
    }
  ]
}